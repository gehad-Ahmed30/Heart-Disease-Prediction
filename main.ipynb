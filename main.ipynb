{
 "cells": [
  {
   "cell_type": "code",
   "execution_count": 1,
   "metadata": {},
   "outputs": [],
   "source": [
    "import pandas as pd\n",
    "import numpy as np\n",
    "import matplotlib.pyplot as plt\n",
    "import seaborn as sns\n",
    "import warnings\n",
    "warnings.filterwarnings('ignore')"
   ]
  },
  {
   "cell_type": "code",
   "execution_count": null,
   "metadata": {},
   "outputs": [
    {
     "data": {
      "text/html": [
       "<div>\n",
       "<style scoped>\n",
       "    .dataframe tbody tr th:only-of-type {\n",
       "        vertical-align: middle;\n",
       "    }\n",
       "\n",
       "    .dataframe tbody tr th {\n",
       "        vertical-align: top;\n",
       "    }\n",
       "\n",
       "    .dataframe thead th {\n",
       "        text-align: right;\n",
       "    }\n",
       "</style>\n",
       "<table border=\"1\" class=\"dataframe\">\n",
       "  <thead>\n",
       "    <tr style=\"text-align: right;\">\n",
       "      <th></th>\n",
       "      <th>State</th>\n",
       "      <th>Sex</th>\n",
       "      <th>GeneralHealth</th>\n",
       "      <th>PhysicalHealthDays</th>\n",
       "      <th>MentalHealthDays</th>\n",
       "      <th>LastCheckupTime</th>\n",
       "      <th>PhysicalActivities</th>\n",
       "      <th>SleepHours</th>\n",
       "      <th>RemovedTeeth</th>\n",
       "      <th>HadHeartAttack</th>\n",
       "      <th>...</th>\n",
       "      <th>HeightInMeters</th>\n",
       "      <th>WeightInKilograms</th>\n",
       "      <th>BMI</th>\n",
       "      <th>AlcoholDrinkers</th>\n",
       "      <th>HIVTesting</th>\n",
       "      <th>FluVaxLast12</th>\n",
       "      <th>PneumoVaxEver</th>\n",
       "      <th>TetanusLast10Tdap</th>\n",
       "      <th>HighRiskLastYear</th>\n",
       "      <th>CovidPos</th>\n",
       "    </tr>\n",
       "  </thead>\n",
       "  <tbody>\n",
       "    <tr>\n",
       "      <th>0</th>\n",
       "      <td>Alabama</td>\n",
       "      <td>Female</td>\n",
       "      <td>Very good</td>\n",
       "      <td>4.0</td>\n",
       "      <td>0.0</td>\n",
       "      <td>Within past year (anytime less than 12 months ...</td>\n",
       "      <td>Yes</td>\n",
       "      <td>9.0</td>\n",
       "      <td>None of them</td>\n",
       "      <td>No</td>\n",
       "      <td>...</td>\n",
       "      <td>1.60</td>\n",
       "      <td>71.67</td>\n",
       "      <td>27.99</td>\n",
       "      <td>No</td>\n",
       "      <td>No</td>\n",
       "      <td>Yes</td>\n",
       "      <td>Yes</td>\n",
       "      <td>Yes, received Tdap</td>\n",
       "      <td>No</td>\n",
       "      <td>No</td>\n",
       "    </tr>\n",
       "    <tr>\n",
       "      <th>1</th>\n",
       "      <td>Alabama</td>\n",
       "      <td>Male</td>\n",
       "      <td>Very good</td>\n",
       "      <td>0.0</td>\n",
       "      <td>0.0</td>\n",
       "      <td>Within past year (anytime less than 12 months ...</td>\n",
       "      <td>Yes</td>\n",
       "      <td>6.0</td>\n",
       "      <td>None of them</td>\n",
       "      <td>No</td>\n",
       "      <td>...</td>\n",
       "      <td>1.78</td>\n",
       "      <td>95.25</td>\n",
       "      <td>30.13</td>\n",
       "      <td>No</td>\n",
       "      <td>No</td>\n",
       "      <td>Yes</td>\n",
       "      <td>Yes</td>\n",
       "      <td>Yes, received tetanus shot but not sure what type</td>\n",
       "      <td>No</td>\n",
       "      <td>No</td>\n",
       "    </tr>\n",
       "    <tr>\n",
       "      <th>2</th>\n",
       "      <td>Alabama</td>\n",
       "      <td>Male</td>\n",
       "      <td>Very good</td>\n",
       "      <td>0.0</td>\n",
       "      <td>0.0</td>\n",
       "      <td>Within past year (anytime less than 12 months ...</td>\n",
       "      <td>No</td>\n",
       "      <td>8.0</td>\n",
       "      <td>6 or more, but not all</td>\n",
       "      <td>No</td>\n",
       "      <td>...</td>\n",
       "      <td>1.85</td>\n",
       "      <td>108.86</td>\n",
       "      <td>31.66</td>\n",
       "      <td>Yes</td>\n",
       "      <td>No</td>\n",
       "      <td>No</td>\n",
       "      <td>Yes</td>\n",
       "      <td>No, did not receive any tetanus shot in the pa...</td>\n",
       "      <td>No</td>\n",
       "      <td>Yes</td>\n",
       "    </tr>\n",
       "    <tr>\n",
       "      <th>3</th>\n",
       "      <td>Alabama</td>\n",
       "      <td>Female</td>\n",
       "      <td>Fair</td>\n",
       "      <td>5.0</td>\n",
       "      <td>0.0</td>\n",
       "      <td>Within past year (anytime less than 12 months ...</td>\n",
       "      <td>Yes</td>\n",
       "      <td>9.0</td>\n",
       "      <td>None of them</td>\n",
       "      <td>No</td>\n",
       "      <td>...</td>\n",
       "      <td>1.70</td>\n",
       "      <td>90.72</td>\n",
       "      <td>31.32</td>\n",
       "      <td>No</td>\n",
       "      <td>No</td>\n",
       "      <td>Yes</td>\n",
       "      <td>Yes</td>\n",
       "      <td>No, did not receive any tetanus shot in the pa...</td>\n",
       "      <td>No</td>\n",
       "      <td>Yes</td>\n",
       "    </tr>\n",
       "    <tr>\n",
       "      <th>4</th>\n",
       "      <td>Alabama</td>\n",
       "      <td>Female</td>\n",
       "      <td>Good</td>\n",
       "      <td>3.0</td>\n",
       "      <td>15.0</td>\n",
       "      <td>Within past year (anytime less than 12 months ...</td>\n",
       "      <td>Yes</td>\n",
       "      <td>5.0</td>\n",
       "      <td>1 to 5</td>\n",
       "      <td>No</td>\n",
       "      <td>...</td>\n",
       "      <td>1.55</td>\n",
       "      <td>79.38</td>\n",
       "      <td>33.07</td>\n",
       "      <td>No</td>\n",
       "      <td>No</td>\n",
       "      <td>Yes</td>\n",
       "      <td>Yes</td>\n",
       "      <td>No, did not receive any tetanus shot in the pa...</td>\n",
       "      <td>No</td>\n",
       "      <td>No</td>\n",
       "    </tr>\n",
       "  </tbody>\n",
       "</table>\n",
       "<p>5 rows × 40 columns</p>\n",
       "</div>"
      ],
      "text/plain": [
       "     State     Sex GeneralHealth  PhysicalHealthDays  MentalHealthDays  \\\n",
       "0  Alabama  Female     Very good                 4.0               0.0   \n",
       "1  Alabama    Male     Very good                 0.0               0.0   \n",
       "2  Alabama    Male     Very good                 0.0               0.0   \n",
       "3  Alabama  Female          Fair                 5.0               0.0   \n",
       "4  Alabama  Female          Good                 3.0              15.0   \n",
       "\n",
       "                                     LastCheckupTime PhysicalActivities  \\\n",
       "0  Within past year (anytime less than 12 months ...                Yes   \n",
       "1  Within past year (anytime less than 12 months ...                Yes   \n",
       "2  Within past year (anytime less than 12 months ...                 No   \n",
       "3  Within past year (anytime less than 12 months ...                Yes   \n",
       "4  Within past year (anytime less than 12 months ...                Yes   \n",
       "\n",
       "   SleepHours            RemovedTeeth HadHeartAttack  ... HeightInMeters  \\\n",
       "0         9.0            None of them             No  ...           1.60   \n",
       "1         6.0            None of them             No  ...           1.78   \n",
       "2         8.0  6 or more, but not all             No  ...           1.85   \n",
       "3         9.0            None of them             No  ...           1.70   \n",
       "4         5.0                  1 to 5             No  ...           1.55   \n",
       "\n",
       "  WeightInKilograms    BMI AlcoholDrinkers HIVTesting FluVaxLast12  \\\n",
       "0             71.67  27.99              No         No          Yes   \n",
       "1             95.25  30.13              No         No          Yes   \n",
       "2            108.86  31.66             Yes         No           No   \n",
       "3             90.72  31.32              No         No          Yes   \n",
       "4             79.38  33.07              No         No          Yes   \n",
       "\n",
       "  PneumoVaxEver                                  TetanusLast10Tdap  \\\n",
       "0           Yes                                 Yes, received Tdap   \n",
       "1           Yes  Yes, received tetanus shot but not sure what type   \n",
       "2           Yes  No, did not receive any tetanus shot in the pa...   \n",
       "3           Yes  No, did not receive any tetanus shot in the pa...   \n",
       "4           Yes  No, did not receive any tetanus shot in the pa...   \n",
       "\n",
       "  HighRiskLastYear CovidPos  \n",
       "0               No       No  \n",
       "1               No       No  \n",
       "2               No      Yes  \n",
       "3               No      Yes  \n",
       "4               No       No  \n",
       "\n",
       "[5 rows x 40 columns]"
      ]
     },
     "execution_count": 2,
     "metadata": {},
     "output_type": "execute_result"
    }
   ],
   "source": [
    "data=pd.read_csv(r'C:\\Users\\Admin\\Desktop\\AI\\Data Analysis\\heart disease project\\2022\\heart_2022_with_nans.csv')\n",
    "data.head()"
   ]
  },
  {
   "cell_type": "code",
   "execution_count": 3,
   "metadata": {},
   "outputs": [
    {
     "data": {
      "text/plain": [
       "Index(['State', 'Sex', 'GeneralHealth', 'PhysicalHealthDays',\n",
       "       'MentalHealthDays', 'LastCheckupTime', 'PhysicalActivities',\n",
       "       'SleepHours', 'RemovedTeeth', 'HadHeartAttack', 'HadAngina',\n",
       "       'HadStroke', 'HadAsthma', 'HadSkinCancer', 'HadCOPD',\n",
       "       'HadDepressiveDisorder', 'HadKidneyDisease', 'HadArthritis',\n",
       "       'HadDiabetes', 'DeafOrHardOfHearing', 'BlindOrVisionDifficulty',\n",
       "       'DifficultyConcentrating', 'DifficultyWalking',\n",
       "       'DifficultyDressingBathing', 'DifficultyErrands', 'SmokerStatus',\n",
       "       'ECigaretteUsage', 'ChestScan', 'RaceEthnicityCategory', 'AgeCategory',\n",
       "       'HeightInMeters', 'WeightInKilograms', 'BMI', 'AlcoholDrinkers',\n",
       "       'HIVTesting', 'FluVaxLast12', 'PneumoVaxEver', 'TetanusLast10Tdap',\n",
       "       'HighRiskLastYear', 'CovidPos'],\n",
       "      dtype='object')"
      ]
     },
     "execution_count": 3,
     "metadata": {},
     "output_type": "execute_result"
    }
   ],
   "source": [
    "data.columns"
   ]
  },
  {
   "cell_type": "code",
   "execution_count": 4,
   "metadata": {},
   "outputs": [
    {
     "name": "stdout",
     "output_type": "stream",
     "text": [
      "<class 'pandas.core.frame.DataFrame'>\n",
      "RangeIndex: 246022 entries, 0 to 246021\n",
      "Data columns (total 40 columns):\n",
      " #   Column                     Non-Null Count   Dtype  \n",
      "---  ------                     --------------   -----  \n",
      " 0   State                      246022 non-null  object \n",
      " 1   Sex                        246022 non-null  object \n",
      " 2   GeneralHealth              246022 non-null  object \n",
      " 3   PhysicalHealthDays         246022 non-null  float64\n",
      " 4   MentalHealthDays           246022 non-null  float64\n",
      " 5   LastCheckupTime            246022 non-null  object \n",
      " 6   PhysicalActivities         246022 non-null  object \n",
      " 7   SleepHours                 246022 non-null  float64\n",
      " 8   RemovedTeeth               246022 non-null  object \n",
      " 9   HadHeartAttack             246022 non-null  object \n",
      " 10  HadAngina                  246022 non-null  object \n",
      " 11  HadStroke                  246022 non-null  object \n",
      " 12  HadAsthma                  246022 non-null  object \n",
      " 13  HadSkinCancer              246022 non-null  object \n",
      " 14  HadCOPD                    246022 non-null  object \n",
      " 15  HadDepressiveDisorder      246022 non-null  object \n",
      " 16  HadKidneyDisease           246022 non-null  object \n",
      " 17  HadArthritis               246022 non-null  object \n",
      " 18  HadDiabetes                246022 non-null  object \n",
      " 19  DeafOrHardOfHearing        246022 non-null  object \n",
      " 20  BlindOrVisionDifficulty    246022 non-null  object \n",
      " 21  DifficultyConcentrating    246022 non-null  object \n",
      " 22  DifficultyWalking          246022 non-null  object \n",
      " 23  DifficultyDressingBathing  246022 non-null  object \n",
      " 24  DifficultyErrands          246022 non-null  object \n",
      " 25  SmokerStatus               246022 non-null  object \n",
      " 26  ECigaretteUsage            246022 non-null  object \n",
      " 27  ChestScan                  246022 non-null  object \n",
      " 28  RaceEthnicityCategory      246022 non-null  object \n",
      " 29  AgeCategory                246022 non-null  object \n",
      " 30  HeightInMeters             246022 non-null  float64\n",
      " 31  WeightInKilograms          246022 non-null  float64\n",
      " 32  BMI                        246022 non-null  float64\n",
      " 33  AlcoholDrinkers            246022 non-null  object \n",
      " 34  HIVTesting                 246022 non-null  object \n",
      " 35  FluVaxLast12               246022 non-null  object \n",
      " 36  PneumoVaxEver              246022 non-null  object \n",
      " 37  TetanusLast10Tdap          246022 non-null  object \n",
      " 38  HighRiskLastYear           246022 non-null  object \n",
      " 39  CovidPos                   246022 non-null  object \n",
      "dtypes: float64(6), object(34)\n",
      "memory usage: 75.1+ MB\n"
     ]
    }
   ],
   "source": [
    "data.info()"
   ]
  },
  {
   "cell_type": "code",
   "execution_count": 5,
   "metadata": {},
   "outputs": [
    {
     "data": {
      "text/plain": [
       "9"
      ]
     },
     "execution_count": 5,
     "metadata": {},
     "output_type": "execute_result"
    }
   ],
   "source": [
    "data.duplicated().sum()"
   ]
  },
  {
   "cell_type": "code",
   "execution_count": 6,
   "metadata": {},
   "outputs": [
    {
     "data": {
      "text/plain": [
       "State                        0\n",
       "Sex                          0\n",
       "GeneralHealth                0\n",
       "PhysicalHealthDays           0\n",
       "MentalHealthDays             0\n",
       "LastCheckupTime              0\n",
       "PhysicalActivities           0\n",
       "SleepHours                   0\n",
       "RemovedTeeth                 0\n",
       "HadHeartAttack               0\n",
       "HadAngina                    0\n",
       "HadStroke                    0\n",
       "HadAsthma                    0\n",
       "HadSkinCancer                0\n",
       "HadCOPD                      0\n",
       "HadDepressiveDisorder        0\n",
       "HadKidneyDisease             0\n",
       "HadArthritis                 0\n",
       "HadDiabetes                  0\n",
       "DeafOrHardOfHearing          0\n",
       "BlindOrVisionDifficulty      0\n",
       "DifficultyConcentrating      0\n",
       "DifficultyWalking            0\n",
       "DifficultyDressingBathing    0\n",
       "DifficultyErrands            0\n",
       "SmokerStatus                 0\n",
       "ECigaretteUsage              0\n",
       "ChestScan                    0\n",
       "RaceEthnicityCategory        0\n",
       "AgeCategory                  0\n",
       "HeightInMeters               0\n",
       "WeightInKilograms            0\n",
       "BMI                          0\n",
       "AlcoholDrinkers              0\n",
       "HIVTesting                   0\n",
       "FluVaxLast12                 0\n",
       "PneumoVaxEver                0\n",
       "TetanusLast10Tdap            0\n",
       "HighRiskLastYear             0\n",
       "CovidPos                     0\n",
       "dtype: int64"
      ]
     },
     "execution_count": 6,
     "metadata": {},
     "output_type": "execute_result"
    }
   ],
   "source": [
    "missing_values=data.isnull().sum() #checking for missing values\n",
    "missing_values"
   ]
  },
  {
   "cell_type": "code",
   "execution_count": 7,
   "metadata": {},
   "outputs": [
    {
     "data": {
      "text/html": [
       "<div>\n",
       "<style scoped>\n",
       "    .dataframe tbody tr th:only-of-type {\n",
       "        vertical-align: middle;\n",
       "    }\n",
       "\n",
       "    .dataframe tbody tr th {\n",
       "        vertical-align: top;\n",
       "    }\n",
       "\n",
       "    .dataframe thead th {\n",
       "        text-align: right;\n",
       "    }\n",
       "</style>\n",
       "<table border=\"1\" class=\"dataframe\">\n",
       "  <thead>\n",
       "    <tr style=\"text-align: right;\">\n",
       "      <th></th>\n",
       "      <th>missing_values</th>\n",
       "      <th>missing_precentage</th>\n",
       "    </tr>\n",
       "  </thead>\n",
       "  <tbody>\n",
       "    <tr>\n",
       "      <th>State</th>\n",
       "      <td>0</td>\n",
       "      <td>0.0</td>\n",
       "    </tr>\n",
       "    <tr>\n",
       "      <th>Sex</th>\n",
       "      <td>0</td>\n",
       "      <td>0.0</td>\n",
       "    </tr>\n",
       "    <tr>\n",
       "      <th>GeneralHealth</th>\n",
       "      <td>0</td>\n",
       "      <td>0.0</td>\n",
       "    </tr>\n",
       "    <tr>\n",
       "      <th>PhysicalHealthDays</th>\n",
       "      <td>0</td>\n",
       "      <td>0.0</td>\n",
       "    </tr>\n",
       "    <tr>\n",
       "      <th>MentalHealthDays</th>\n",
       "      <td>0</td>\n",
       "      <td>0.0</td>\n",
       "    </tr>\n",
       "    <tr>\n",
       "      <th>LastCheckupTime</th>\n",
       "      <td>0</td>\n",
       "      <td>0.0</td>\n",
       "    </tr>\n",
       "    <tr>\n",
       "      <th>PhysicalActivities</th>\n",
       "      <td>0</td>\n",
       "      <td>0.0</td>\n",
       "    </tr>\n",
       "    <tr>\n",
       "      <th>SleepHours</th>\n",
       "      <td>0</td>\n",
       "      <td>0.0</td>\n",
       "    </tr>\n",
       "    <tr>\n",
       "      <th>RemovedTeeth</th>\n",
       "      <td>0</td>\n",
       "      <td>0.0</td>\n",
       "    </tr>\n",
       "    <tr>\n",
       "      <th>HadHeartAttack</th>\n",
       "      <td>0</td>\n",
       "      <td>0.0</td>\n",
       "    </tr>\n",
       "    <tr>\n",
       "      <th>HadAngina</th>\n",
       "      <td>0</td>\n",
       "      <td>0.0</td>\n",
       "    </tr>\n",
       "    <tr>\n",
       "      <th>HadStroke</th>\n",
       "      <td>0</td>\n",
       "      <td>0.0</td>\n",
       "    </tr>\n",
       "    <tr>\n",
       "      <th>HadAsthma</th>\n",
       "      <td>0</td>\n",
       "      <td>0.0</td>\n",
       "    </tr>\n",
       "    <tr>\n",
       "      <th>HadSkinCancer</th>\n",
       "      <td>0</td>\n",
       "      <td>0.0</td>\n",
       "    </tr>\n",
       "    <tr>\n",
       "      <th>HadCOPD</th>\n",
       "      <td>0</td>\n",
       "      <td>0.0</td>\n",
       "    </tr>\n",
       "    <tr>\n",
       "      <th>HadDepressiveDisorder</th>\n",
       "      <td>0</td>\n",
       "      <td>0.0</td>\n",
       "    </tr>\n",
       "    <tr>\n",
       "      <th>HadKidneyDisease</th>\n",
       "      <td>0</td>\n",
       "      <td>0.0</td>\n",
       "    </tr>\n",
       "    <tr>\n",
       "      <th>HadArthritis</th>\n",
       "      <td>0</td>\n",
       "      <td>0.0</td>\n",
       "    </tr>\n",
       "    <tr>\n",
       "      <th>HadDiabetes</th>\n",
       "      <td>0</td>\n",
       "      <td>0.0</td>\n",
       "    </tr>\n",
       "    <tr>\n",
       "      <th>DeafOrHardOfHearing</th>\n",
       "      <td>0</td>\n",
       "      <td>0.0</td>\n",
       "    </tr>\n",
       "    <tr>\n",
       "      <th>BlindOrVisionDifficulty</th>\n",
       "      <td>0</td>\n",
       "      <td>0.0</td>\n",
       "    </tr>\n",
       "    <tr>\n",
       "      <th>DifficultyConcentrating</th>\n",
       "      <td>0</td>\n",
       "      <td>0.0</td>\n",
       "    </tr>\n",
       "    <tr>\n",
       "      <th>DifficultyWalking</th>\n",
       "      <td>0</td>\n",
       "      <td>0.0</td>\n",
       "    </tr>\n",
       "    <tr>\n",
       "      <th>DifficultyDressingBathing</th>\n",
       "      <td>0</td>\n",
       "      <td>0.0</td>\n",
       "    </tr>\n",
       "    <tr>\n",
       "      <th>DifficultyErrands</th>\n",
       "      <td>0</td>\n",
       "      <td>0.0</td>\n",
       "    </tr>\n",
       "    <tr>\n",
       "      <th>SmokerStatus</th>\n",
       "      <td>0</td>\n",
       "      <td>0.0</td>\n",
       "    </tr>\n",
       "    <tr>\n",
       "      <th>ECigaretteUsage</th>\n",
       "      <td>0</td>\n",
       "      <td>0.0</td>\n",
       "    </tr>\n",
       "    <tr>\n",
       "      <th>ChestScan</th>\n",
       "      <td>0</td>\n",
       "      <td>0.0</td>\n",
       "    </tr>\n",
       "    <tr>\n",
       "      <th>RaceEthnicityCategory</th>\n",
       "      <td>0</td>\n",
       "      <td>0.0</td>\n",
       "    </tr>\n",
       "    <tr>\n",
       "      <th>AgeCategory</th>\n",
       "      <td>0</td>\n",
       "      <td>0.0</td>\n",
       "    </tr>\n",
       "    <tr>\n",
       "      <th>HeightInMeters</th>\n",
       "      <td>0</td>\n",
       "      <td>0.0</td>\n",
       "    </tr>\n",
       "    <tr>\n",
       "      <th>WeightInKilograms</th>\n",
       "      <td>0</td>\n",
       "      <td>0.0</td>\n",
       "    </tr>\n",
       "    <tr>\n",
       "      <th>BMI</th>\n",
       "      <td>0</td>\n",
       "      <td>0.0</td>\n",
       "    </tr>\n",
       "    <tr>\n",
       "      <th>AlcoholDrinkers</th>\n",
       "      <td>0</td>\n",
       "      <td>0.0</td>\n",
       "    </tr>\n",
       "    <tr>\n",
       "      <th>HIVTesting</th>\n",
       "      <td>0</td>\n",
       "      <td>0.0</td>\n",
       "    </tr>\n",
       "    <tr>\n",
       "      <th>FluVaxLast12</th>\n",
       "      <td>0</td>\n",
       "      <td>0.0</td>\n",
       "    </tr>\n",
       "    <tr>\n",
       "      <th>PneumoVaxEver</th>\n",
       "      <td>0</td>\n",
       "      <td>0.0</td>\n",
       "    </tr>\n",
       "    <tr>\n",
       "      <th>TetanusLast10Tdap</th>\n",
       "      <td>0</td>\n",
       "      <td>0.0</td>\n",
       "    </tr>\n",
       "    <tr>\n",
       "      <th>HighRiskLastYear</th>\n",
       "      <td>0</td>\n",
       "      <td>0.0</td>\n",
       "    </tr>\n",
       "    <tr>\n",
       "      <th>CovidPos</th>\n",
       "      <td>0</td>\n",
       "      <td>0.0</td>\n",
       "    </tr>\n",
       "  </tbody>\n",
       "</table>\n",
       "</div>"
      ],
      "text/plain": [
       "                           missing_values  missing_precentage\n",
       "State                                   0                 0.0\n",
       "Sex                                     0                 0.0\n",
       "GeneralHealth                           0                 0.0\n",
       "PhysicalHealthDays                      0                 0.0\n",
       "MentalHealthDays                        0                 0.0\n",
       "LastCheckupTime                         0                 0.0\n",
       "PhysicalActivities                      0                 0.0\n",
       "SleepHours                              0                 0.0\n",
       "RemovedTeeth                            0                 0.0\n",
       "HadHeartAttack                          0                 0.0\n",
       "HadAngina                               0                 0.0\n",
       "HadStroke                               0                 0.0\n",
       "HadAsthma                               0                 0.0\n",
       "HadSkinCancer                           0                 0.0\n",
       "HadCOPD                                 0                 0.0\n",
       "HadDepressiveDisorder                   0                 0.0\n",
       "HadKidneyDisease                        0                 0.0\n",
       "HadArthritis                            0                 0.0\n",
       "HadDiabetes                             0                 0.0\n",
       "DeafOrHardOfHearing                     0                 0.0\n",
       "BlindOrVisionDifficulty                 0                 0.0\n",
       "DifficultyConcentrating                 0                 0.0\n",
       "DifficultyWalking                       0                 0.0\n",
       "DifficultyDressingBathing               0                 0.0\n",
       "DifficultyErrands                       0                 0.0\n",
       "SmokerStatus                            0                 0.0\n",
       "ECigaretteUsage                         0                 0.0\n",
       "ChestScan                               0                 0.0\n",
       "RaceEthnicityCategory                   0                 0.0\n",
       "AgeCategory                             0                 0.0\n",
       "HeightInMeters                          0                 0.0\n",
       "WeightInKilograms                       0                 0.0\n",
       "BMI                                     0                 0.0\n",
       "AlcoholDrinkers                         0                 0.0\n",
       "HIVTesting                              0                 0.0\n",
       "FluVaxLast12                            0                 0.0\n",
       "PneumoVaxEver                           0                 0.0\n",
       "TetanusLast10Tdap                       0                 0.0\n",
       "HighRiskLastYear                        0                 0.0\n",
       "CovidPos                                0                 0.0"
      ]
     },
     "execution_count": 7,
     "metadata": {},
     "output_type": "execute_result"
    }
   ],
   "source": [
    "missing_precentage=missing_values/len(data)*100\n",
    "missing_df=pd.DataFrame({'missing_values':missing_values,'missing_precentage':missing_precentage})\n",
    "missing_df"
   ]
  },
  {
   "cell_type": "code",
   "execution_count": 8,
   "metadata": {},
   "outputs": [
    {
     "data": {
      "image/png": "[encoded data removed]",
      "text/plain": [
       "<Figure size 1000x500 with 1 Axes>"
      ]
     },
     "metadata": {},
     "output_type": "display_data"
    }
   ],
   "source": [
    "plt.figure(figsize=(10,5))\n",
    "missing_precentage.plot(kind='bar',color='blue')\n",
    "plt.xlabel('Columns')\n",
    "plt.title('Percentage of missing values')\n",
    "plt.show()"
   ]
  },
  {
   "cell_type": "code",
   "execution_count": 9,
   "metadata": {},
   "outputs": [
    {
     "data": {
      "text/plain": [
       "GeneralHealth\n",
       "Very good    35.362285\n",
       "Good         31.464259\n",
       "Excellent    16.878572\n",
       "Fair         12.461894\n",
       "Poor          3.832991\n",
       "Name: proportion, dtype: float64"
      ]
     },
     "execution_count": 9,
     "metadata": {},
     "output_type": "execute_result"
    }
   ],
   "source": [
    "data.GeneralHealth.value_counts(normalize=True)*100"
   ]
  },
  {
   "cell_type": "code",
   "execution_count": 10,
   "metadata": {},
   "outputs": [],
   "source": [
    "data.GeneralHealth.fillna(data.GeneralHealth.mode()[0],inplace=True)"
   ]
  },
  {
   "cell_type": "code",
   "execution_count": 11,
   "metadata": {},
   "outputs": [
    {
     "data": {
      "text/plain": [
       "PhysicalHealthDays\n",
       "0.0     62.109080\n",
       "30.0     6.974986\n",
       "2.0      5.986456\n",
       "1.0      4.088252\n",
       "3.0      3.713896\n",
       "5.0      3.633415\n",
       "10.0     2.466446\n",
       "7.0      2.122168\n",
       "4.0      1.994131\n",
       "15.0     1.969336\n",
       "20.0     1.199080\n",
       "14.0     1.143394\n",
       "6.0      0.577591\n",
       "25.0     0.456463\n",
       "8.0      0.390615\n",
       "12.0     0.247945\n",
       "21.0     0.237377\n",
       "28.0     0.148361\n",
       "9.0      0.085765\n",
       "29.0     0.072351\n",
       "18.0     0.061377\n",
       "16.0     0.051215\n",
       "27.0     0.041866\n",
       "17.0     0.041053\n",
       "11.0     0.038614\n",
       "13.0     0.035363\n",
       "22.0     0.029266\n",
       "26.0     0.026014\n",
       "24.0     0.024388\n",
       "23.0     0.021949\n",
       "19.0     0.011788\n",
       "Name: proportion, dtype: float64"
      ]
     },
     "execution_count": 11,
     "metadata": {},
     "output_type": "execute_result"
    }
   ],
   "source": [
    "data.PhysicalHealthDays.value_counts(normalize=True)*100"
   ]
  },
  {
   "cell_type": "code",
   "execution_count": 12,
   "metadata": {},
   "outputs": [
    {
     "data": {
      "text/plain": [
       "-21.098505519742908"
      ]
     },
     "execution_count": 12,
     "metadata": {},
     "output_type": "execute_result"
    }
   ],
   "source": [
    "data.PhysicalHealthDays.mean() - data.PhysicalHealthDays.std() * 3    #outliers"
   ]
  },
  {
   "cell_type": "code",
   "execution_count": 13,
   "metadata": {},
   "outputs": [
    {
     "data": {
      "text/plain": [
       "29.336557401281958"
      ]
     },
     "execution_count": 13,
     "metadata": {},
     "output_type": "execute_result"
    }
   ],
   "source": [
    "data.PhysicalHealthDays.mean() + data.PhysicalHealthDays.std() * 3   #outliers"
   ]
  },
  {
   "cell_type": "code",
   "execution_count": 14,
   "metadata": {},
   "outputs": [
    {
     "data": {
      "text/plain": [
       "<Axes: ylabel='PhysicalHealthDays'>"
      ]
     },
     "execution_count": 14,
     "metadata": {},
     "output_type": "execute_result"
    },
    {
     "data": {
      "image/png": "[encoded data removed]",
      "text/plain": [
       "<Figure size 640x480 with 1 Axes>"
      ]
     },
     "metadata": {},
     "output_type": "display_data"
    }
   ],
   "source": [
    "sns.boxplot(data.PhysicalHealthDays)"
   ]
  },
  {
   "cell_type": "code",
   "execution_count": 15,
   "metadata": {},
   "outputs": [],
   "source": [
    "data.PhysicalHealthDays.fillna(data.PhysicalHealthDays.median(),inplace=True)"
   ]
  },
  {
   "cell_type": "code",
   "execution_count": 16,
   "metadata": {},
   "outputs": [
    {
     "data": {
      "text/plain": [
       "MentalHealthDays\n",
       "0.0     61.154693\n",
       "2.0      5.613319\n",
       "30.0     5.569421\n",
       "5.0      4.724374\n",
       "3.0      3.596833\n",
       "10.0     3.589516\n",
       "1.0      3.350920\n",
       "15.0     3.276536\n",
       "20.0     2.001853\n",
       "4.0      1.856745\n",
       "7.0      1.823008\n",
       "25.0     0.669452\n",
       "14.0     0.639374\n",
       "6.0      0.538976\n",
       "8.0      0.395493\n",
       "12.0     0.290624\n",
       "28.0     0.196730\n",
       "21.0     0.122347\n",
       "29.0     0.106088\n",
       "18.0     0.067474\n",
       "16.0     0.067067\n",
       "9.0      0.058938\n",
       "17.0     0.053654\n",
       "27.0     0.045931\n",
       "22.0     0.041053\n",
       "13.0     0.039021\n",
       "11.0     0.028046\n",
       "24.0     0.027640\n",
       "26.0     0.023982\n",
       "23.0     0.020730\n",
       "19.0     0.010162\n",
       "Name: proportion, dtype: float64"
      ]
     },
     "execution_count": 16,
     "metadata": {},
     "output_type": "execute_result"
    }
   ],
   "source": [
    "data.MentalHealthDays.value_counts(normalize=True)*100"
   ]
  },
  {
   "cell_type": "code",
   "execution_count": 17,
   "metadata": {},
   "outputs": [
    {
     "data": {
      "text/plain": [
       "-20.14092184459384"
      ]
     },
     "execution_count": 17,
     "metadata": {},
     "output_type": "execute_result"
    }
   ],
   "source": [
    "data.MentalHealthDays.mean() - data.MentalHealthDays.std() * 3    #outliers"
   ]
  },
  {
   "cell_type": "code",
   "execution_count": 18,
   "metadata": {},
   "outputs": [
    {
     "data": {
      "text/plain": [
       "28.475200892809042"
      ]
     },
     "execution_count": 18,
     "metadata": {},
     "output_type": "execute_result"
    }
   ],
   "source": [
    "data.MentalHealthDays.mean() + data.MentalHealthDays.std() * 3    #outliers"
   ]
  },
  {
   "cell_type": "code",
   "execution_count": 19,
   "metadata": {},
   "outputs": [
    {
     "data": {
      "text/plain": [
       "<Axes: ylabel='MentalHealthDays'>"
      ]
     },
     "execution_count": 19,
     "metadata": {},
     "output_type": "execute_result"
    },
    {
     "data": {
      "image/png": "[encoded data removed]",
      "text/plain": [
       "<Figure size 640x480 with 1 Axes>"
      ]
     },
     "metadata": {},
     "output_type": "display_data"
    }
   ],
   "source": [
    "sns.boxplot(data.MentalHealthDays)"
   ]
  },
  {
   "cell_type": "code",
   "execution_count": 20,
   "metadata": {},
   "outputs": [],
   "source": [
    "data.MentalHealthDays.fillna(data.MentalHealthDays.median(),inplace=True)"
   ]
  },
  {
   "cell_type": "code",
   "execution_count": 21,
   "metadata": {},
   "outputs": [
    {
     "data": {
      "text/plain": [
       "LastCheckupTime\n",
       "Within past year (anytime less than 12 months ago)         80.542797\n",
       "Within past 2 years (1 year but less than 2 years ago)      9.441026\n",
       "Within past 5 years (2 years but less than 5 years ago)     5.586492\n",
       "5 or more years ago                                         4.429685\n",
       "Name: proportion, dtype: float64"
      ]
     },
     "execution_count": 21,
     "metadata": {},
     "output_type": "execute_result"
    }
   ],
   "source": [
    "data.LastCheckupTime.value_counts(normalize=True)*100"
   ]
  },
  {
   "cell_type": "code",
   "execution_count": 22,
   "metadata": {},
   "outputs": [],
   "source": [
    "data.LastCheckupTime.fillna(data.LastCheckupTime.mode()[0],inplace=True)"
   ]
  },
  {
   "cell_type": "code",
   "execution_count": 23,
   "metadata": {},
   "outputs": [
    {
     "data": {
      "text/plain": [
       "PhysicalActivities\n",
       "Yes    77.76459\n",
       "No     22.23541\n",
       "Name: proportion, dtype: float64"
      ]
     },
     "execution_count": 23,
     "metadata": {},
     "output_type": "execute_result"
    }
   ],
   "source": [
    "data.PhysicalActivities.value_counts(normalize=True)*100"
   ]
  },
  {
   "cell_type": "code",
   "execution_count": 24,
   "metadata": {},
   "outputs": [
    {
     "data": {
      "text/plain": [
       "AgeCategory      PhysicalActivities\n",
       "Age 18 to 24     Yes                   0.857491\n",
       "                 No                    0.142509\n",
       "Age 25 to 29     Yes                   0.847241\n",
       "                 No                    0.152759\n",
       "Age 30 to 34     Yes                   0.836580\n",
       "                 No                    0.163420\n",
       "Age 35 to 39     Yes                   0.832906\n",
       "                 No                    0.167094\n",
       "Age 40 to 44     Yes                   0.814352\n",
       "                 No                    0.185648\n",
       "Age 45 to 49     Yes                   0.797171\n",
       "                 No                    0.202829\n",
       "Age 50 to 54     Yes                   0.776427\n",
       "                 No                    0.223573\n",
       "Age 55 to 59     Yes                   0.760394\n",
       "                 No                    0.239606\n",
       "Age 60 to 64     Yes                   0.761714\n",
       "                 No                    0.238286\n",
       "Age 65 to 69     Yes                   0.774311\n",
       "                 No                    0.225689\n",
       "Age 70 to 74     Yes                   0.759431\n",
       "                 No                    0.240569\n",
       "Age 75 to 79     Yes                   0.728275\n",
       "                 No                    0.271725\n",
       "Age 80 or older  Yes                   0.658229\n",
       "                 No                    0.341771\n",
       "Name: proportion, dtype: float64"
      ]
     },
     "execution_count": 24,
     "metadata": {},
     "output_type": "execute_result"
    }
   ],
   "source": [
    "data.groupby('AgeCategory')['PhysicalActivities'].value_counts(normalize=True)\n"
   ]
  },
  {
   "cell_type": "code",
   "execution_count": 25,
   "metadata": {},
   "outputs": [],
   "source": [
    "data.PhysicalActivities.fillna(data.PhysicalActivities.mode()[0],inplace=True)"
   ]
  },
  {
   "cell_type": "code",
   "execution_count": 26,
   "metadata": {},
   "outputs": [
    {
     "data": {
      "text/plain": [
       "SleepHours\n",
       "7.0     31.073237\n",
       "8.0     28.423068\n",
       "6.0     21.941534\n",
       "5.0      6.672980\n",
       "9.0      4.820301\n",
       "4.0      2.633098\n",
       "10.0     2.222565\n",
       "3.0      0.657665\n",
       "12.0     0.599946\n",
       "2.0      0.300786\n",
       "1.0      0.228841\n",
       "11.0     0.137793\n",
       "16.0     0.063002\n",
       "15.0     0.062596\n",
       "14.0     0.060157\n",
       "18.0     0.033737\n",
       "13.0     0.032111\n",
       "20.0     0.020323\n",
       "24.0     0.005284\n",
       "17.0     0.004471\n",
       "23.0     0.002439\n",
       "19.0     0.002032\n",
       "22.0     0.002032\n",
       "Name: proportion, dtype: float64"
      ]
     },
     "execution_count": 26,
     "metadata": {},
     "output_type": "execute_result"
    }
   ],
   "source": [
    "data.SleepHours.value_counts(normalize=True)*100"
   ]
  },
  {
   "cell_type": "code",
   "execution_count": 27,
   "metadata": {},
   "outputs": [
    {
     "data": {
      "text/plain": [
       "<Axes: ylabel='SleepHours'>"
      ]
     },
     "execution_count": 27,
     "metadata": {},
     "output_type": "execute_result"
    },
    {
     "data": {
      "image/png": "[encoded data removed]",
      "text/plain": [
       "<Figure size 640x480 with 1 Axes>"
      ]
     },
     "metadata": {},
     "output_type": "display_data"
    }
   ],
   "source": [
    "sns.boxplot(data.SleepHours)"
   ]
  },
  {
   "cell_type": "code",
   "execution_count": 28,
   "metadata": {},
   "outputs": [],
   "source": [
    "data.SleepHours.fillna(data.SleepHours.median(), inplace=True)"
   ]
  },
  {
   "cell_type": "code",
   "execution_count": 29,
   "metadata": {},
   "outputs": [
    {
     "data": {
      "text/plain": [
       "RemovedTeeth\n",
       "None of them              53.487899\n",
       "1 to 5                    30.363951\n",
       "6 or more, but not all    10.547837\n",
       "All                        5.600312\n",
       "Name: proportion, dtype: float64"
      ]
     },
     "execution_count": 29,
     "metadata": {},
     "output_type": "execute_result"
    }
   ],
   "source": [
    "data.RemovedTeeth.value_counts(normalize=True)*100"
   ]
  },
  {
   "cell_type": "code",
   "execution_count": 30,
   "metadata": {},
   "outputs": [],
   "source": [
    "data.RemovedTeeth.fillna(data.RemovedTeeth.mode()[0],inplace=True)  "
   ]
  },
  {
   "cell_type": "code",
   "execution_count": 31,
   "metadata": {},
   "outputs": [],
   "source": [
    "columns_to_fill=['HadHeartAttack','HadAngina','HadStroke', 'HadAsthma',\n",
    "    'HadSkinCancer', 'HadCOPD', 'HadDepressiveDisorder',\n",
    "    'HadKidneyDisease', 'HadArthritis', 'HadDiabetes']\n",
    "for column in columns_to_fill:\n",
    "    data[column].fillna(data[column].mode()[0],inplace=True)"
   ]
  },
  {
   "cell_type": "code",
   "execution_count": 32,
   "metadata": {},
   "outputs": [],
   "source": [
    "disability_columns = [\n",
    "    'DeafOrHardOfHearing', 'BlindOrVisionDifficulty',\n",
    "    'DifficultyConcentrating', 'DifficultyWalking',\n",
    "    'DifficultyDressingBathing', 'DifficultyErrands'\n",
    "]\n",
    "\n",
    "for col in disability_columns:\n",
    "    data[col].fillna(data[col].mode()[0], inplace=True)\n"
   ]
  },
  {
   "cell_type": "code",
   "execution_count": 33,
   "metadata": {},
   "outputs": [
    {
     "data": {
      "text/plain": [
       "State                        0\n",
       "Sex                          0\n",
       "GeneralHealth                0\n",
       "PhysicalHealthDays           0\n",
       "MentalHealthDays             0\n",
       "LastCheckupTime              0\n",
       "PhysicalActivities           0\n",
       "SleepHours                   0\n",
       "RemovedTeeth                 0\n",
       "HadHeartAttack               0\n",
       "HadAngina                    0\n",
       "HadStroke                    0\n",
       "HadAsthma                    0\n",
       "HadSkinCancer                0\n",
       "HadCOPD                      0\n",
       "HadDepressiveDisorder        0\n",
       "HadKidneyDisease             0\n",
       "HadArthritis                 0\n",
       "HadDiabetes                  0\n",
       "DeafOrHardOfHearing          0\n",
       "BlindOrVisionDifficulty      0\n",
       "DifficultyConcentrating      0\n",
       "DifficultyWalking            0\n",
       "DifficultyDressingBathing    0\n",
       "DifficultyErrands            0\n",
       "SmokerStatus                 0\n",
       "ECigaretteUsage              0\n",
       "ChestScan                    0\n",
       "RaceEthnicityCategory        0\n",
       "AgeCategory                  0\n",
       "HeightInMeters               0\n",
       "WeightInKilograms            0\n",
       "BMI                          0\n",
       "AlcoholDrinkers              0\n",
       "HIVTesting                   0\n",
       "FluVaxLast12                 0\n",
       "PneumoVaxEver                0\n",
       "TetanusLast10Tdap            0\n",
       "HighRiskLastYear             0\n",
       "CovidPos                     0\n",
       "dtype: int64"
      ]
     },
     "execution_count": 33,
     "metadata": {},
     "output_type": "execute_result"
    }
   ],
   "source": [
    "data.isnull().sum()"
   ]
  },
  {
   "cell_type": "code",
   "execution_count": 34,
   "metadata": {},
   "outputs": [
    {
     "data": {
      "text/plain": [
       "SmokerStatus\n",
       "Never smoked                             60.050321\n",
       "Former smoker                            27.854013\n",
       "Current smoker - now smokes every day     8.803684\n",
       "Current smoker - now smokes some days     3.291982\n",
       "Name: proportion, dtype: float64"
      ]
     },
     "execution_count": 34,
     "metadata": {},
     "output_type": "execute_result"
    }
   ],
   "source": [
    "data.SmokerStatus.value_counts(normalize=True) * 100"
   ]
  },
  {
   "cell_type": "code",
   "execution_count": 35,
   "metadata": {},
   "outputs": [],
   "source": [
    "data.SmokerStatus.fillna(data.SmokerStatus.mode()[0], inplace=True)"
   ]
  },
  {
   "cell_type": "code",
   "execution_count": 36,
   "metadata": {},
   "outputs": [
    {
     "data": {
      "text/plain": [
       "ECigaretteUsage\n",
       "Never used e-cigarettes in my entire life    77.280894\n",
       "Not at all (right now)                       17.592329\n",
       "Use them some days                            2.706262\n",
       "Use them every day                            2.420515\n",
       "Name: proportion, dtype: float64"
      ]
     },
     "execution_count": 36,
     "metadata": {},
     "output_type": "execute_result"
    }
   ],
   "source": [
    "data.ECigaretteUsage.value_counts(normalize=True) * 100"
   ]
  },
  {
   "cell_type": "code",
   "execution_count": 37,
   "metadata": {},
   "outputs": [],
   "source": [
    "data.ECigaretteUsage.fillna(data.ECigaretteUsage.mode()[0], inplace=True)"
   ]
  },
  {
   "cell_type": "code",
   "execution_count": 38,
   "metadata": {},
   "outputs": [
    {
     "data": {
      "text/plain": [
       "AlcoholDrinkers\n",
       "Yes    54.997927\n",
       "No     45.002073\n",
       "Name: proportion, dtype: float64"
      ]
     },
     "execution_count": 38,
     "metadata": {},
     "output_type": "execute_result"
    }
   ],
   "source": [
    "data.AlcoholDrinkers.value_counts(normalize=True) * 100"
   ]
  },
  {
   "cell_type": "code",
   "execution_count": 39,
   "metadata": {},
   "outputs": [],
   "source": [
    "data.AlcoholDrinkers.fillna(data.AlcoholDrinkers.mode()[0], inplace=True)"
   ]
  },
  {
   "cell_type": "code",
   "execution_count": 40,
   "metadata": {},
   "outputs": [
    {
     "data": {
      "text/plain": [
       "HIVTesting\n",
       "No     65.652665\n",
       "Yes    34.347335\n",
       "Name: proportion, dtype: float64"
      ]
     },
     "execution_count": 40,
     "metadata": {},
     "output_type": "execute_result"
    }
   ],
   "source": [
    "data.HIVTesting.value_counts(normalize=True) * 100"
   ]
  },
  {
   "cell_type": "code",
   "execution_count": 41,
   "metadata": {},
   "outputs": [],
   "source": [
    "data.HIVTesting.fillna(data.HIVTesting.mode()[0], inplace=True)"
   ]
  },
  {
   "cell_type": "code",
   "execution_count": 42,
   "metadata": {},
   "outputs": [
    {
     "data": {
      "text/plain": [
       "<Axes: xlabel='HIVTesting'>"
      ]
     },
     "execution_count": 42,
     "metadata": {},
     "output_type": "execute_result"
    },
    {
     "data": {
      "image/png": "[encoded data removed]",
      "text/plain": [
       "<Figure size 640x480 with 1 Axes>"
      ]
     },
     "metadata": {},
     "output_type": "display_data"
    }
   ],
   "source": [
    "data.HIVTesting.value_counts().plot(kind='bar')"
   ]
  },
  {
   "cell_type": "code",
   "execution_count": 43,
   "metadata": {},
   "outputs": [
    {
     "data": {
      "text/plain": [
       "FluVaxLast12\n",
       "Yes    53.326938\n",
       "No     46.673062\n",
       "Name: proportion, dtype: float64"
      ]
     },
     "execution_count": 43,
     "metadata": {},
     "output_type": "execute_result"
    }
   ],
   "source": [
    "data.FluVaxLast12.value_counts(normalize=True) * 100"
   ]
  },
  {
   "cell_type": "code",
   "execution_count": 44,
   "metadata": {},
   "outputs": [
    {
     "data": {
      "text/plain": [
       "<Axes: xlabel='FluVaxLast12'>"
      ]
     },
     "execution_count": 44,
     "metadata": {},
     "output_type": "execute_result"
    },
    {
     "data": {
      "image/png": "[encoded data removed]",
      "text/plain": [
       "<Figure size 640x480 with 1 Axes>"
      ]
     },
     "metadata": {},
     "output_type": "display_data"
    }
   ],
   "source": [
    "data.FluVaxLast12.value_counts().plot(kind='bar')"
   ]
  }
 ],
 "metadata": {
  "kernelspec": {
   "display_name": "Python 3",
   "language": "python",
   "name": "python3"
  },
  "language_info": {
   "codemirror_mode": {
    "name": "ipython",
    "version": 3
   },
   "file_extension": ".py",
   "mimetype": "text/x-python",
   "name": "python",
   "nbconvert_exporter": "python",
   "pygments_lexer": "ipython3",
   "version": "3.11.6"
  }
 },
 "nbformat": 4,
 "nbformat_minor": 2
}
