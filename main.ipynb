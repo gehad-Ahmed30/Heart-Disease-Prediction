{
 "cells": [
  {
   "cell_type": "code",
   "execution_count": 3,
   "metadata": {},
   "outputs": [],
   "source": [
    "import pandas as pd\n",
    "import numpy as np\n",
    "import matplotlib.pyplot as plt\n",
    "import seaborn as sns\n",
    "import warnings\n",
    "warnings.filterwarnings('ignore')"
   ]
  },
  {
   "cell_type": "code",
   "execution_count": 4,
   "metadata": {},
   "outputs": [
    {
     "data": {
      "text/html": [
       "<div>\n",
       "<style scoped>\n",
       "    .dataframe tbody tr th:only-of-type {\n",
       "        vertical-align: middle;\n",
       "    }\n",
       "\n",
       "    .dataframe tbody tr th {\n",
       "        vertical-align: top;\n",
       "    }\n",
       "\n",
       "    .dataframe thead th {\n",
       "        text-align: right;\n",
       "    }\n",
       "</style>\n",
       "<table border=\"1\" class=\"dataframe\">\n",
       "  <thead>\n",
       "    <tr style=\"text-align: right;\">\n",
       "      <th></th>\n",
       "      <th>State</th>\n",
       "      <th>Sex</th>\n",
       "      <th>GeneralHealth</th>\n",
       "      <th>PhysicalHealthDays</th>\n",
       "      <th>MentalHealthDays</th>\n",
       "      <th>LastCheckupTime</th>\n",
       "      <th>PhysicalActivities</th>\n",
       "      <th>SleepHours</th>\n",
       "      <th>RemovedTeeth</th>\n",
       "      <th>HadHeartAttack</th>\n",
       "      <th>...</th>\n",
       "      <th>HeightInMeters</th>\n",
       "      <th>WeightInKilograms</th>\n",
       "      <th>BMI</th>\n",
       "      <th>AlcoholDrinkers</th>\n",
       "      <th>HIVTesting</th>\n",
       "      <th>FluVaxLast12</th>\n",
       "      <th>PneumoVaxEver</th>\n",
       "      <th>TetanusLast10Tdap</th>\n",
       "      <th>HighRiskLastYear</th>\n",
       "      <th>CovidPos</th>\n",
       "    </tr>\n",
       "  </thead>\n",
       "  <tbody>\n",
       "    <tr>\n",
       "      <th>0</th>\n",
       "      <td>Alabama</td>\n",
       "      <td>Female</td>\n",
       "      <td>Very good</td>\n",
       "      <td>0.0</td>\n",
       "      <td>0.0</td>\n",
       "      <td>Within past year (anytime less than 12 months ...</td>\n",
       "      <td>No</td>\n",
       "      <td>8.0</td>\n",
       "      <td>NaN</td>\n",
       "      <td>No</td>\n",
       "      <td>...</td>\n",
       "      <td>NaN</td>\n",
       "      <td>NaN</td>\n",
       "      <td>NaN</td>\n",
       "      <td>No</td>\n",
       "      <td>No</td>\n",
       "      <td>Yes</td>\n",
       "      <td>No</td>\n",
       "      <td>Yes, received tetanus shot but not sure what type</td>\n",
       "      <td>No</td>\n",
       "      <td>No</td>\n",
       "    </tr>\n",
       "    <tr>\n",
       "      <th>1</th>\n",
       "      <td>Alabama</td>\n",
       "      <td>Female</td>\n",
       "      <td>Excellent</td>\n",
       "      <td>0.0</td>\n",
       "      <td>0.0</td>\n",
       "      <td>NaN</td>\n",
       "      <td>No</td>\n",
       "      <td>6.0</td>\n",
       "      <td>NaN</td>\n",
       "      <td>No</td>\n",
       "      <td>...</td>\n",
       "      <td>1.60</td>\n",
       "      <td>68.04</td>\n",
       "      <td>26.57</td>\n",
       "      <td>No</td>\n",
       "      <td>No</td>\n",
       "      <td>No</td>\n",
       "      <td>No</td>\n",
       "      <td>No, did not receive any tetanus shot in the pa...</td>\n",
       "      <td>No</td>\n",
       "      <td>No</td>\n",
       "    </tr>\n",
       "    <tr>\n",
       "      <th>2</th>\n",
       "      <td>Alabama</td>\n",
       "      <td>Female</td>\n",
       "      <td>Very good</td>\n",
       "      <td>2.0</td>\n",
       "      <td>3.0</td>\n",
       "      <td>Within past year (anytime less than 12 months ...</td>\n",
       "      <td>Yes</td>\n",
       "      <td>5.0</td>\n",
       "      <td>NaN</td>\n",
       "      <td>No</td>\n",
       "      <td>...</td>\n",
       "      <td>1.57</td>\n",
       "      <td>63.50</td>\n",
       "      <td>25.61</td>\n",
       "      <td>No</td>\n",
       "      <td>No</td>\n",
       "      <td>No</td>\n",
       "      <td>No</td>\n",
       "      <td>NaN</td>\n",
       "      <td>No</td>\n",
       "      <td>Yes</td>\n",
       "    </tr>\n",
       "    <tr>\n",
       "      <th>3</th>\n",
       "      <td>Alabama</td>\n",
       "      <td>Female</td>\n",
       "      <td>Excellent</td>\n",
       "      <td>0.0</td>\n",
       "      <td>0.0</td>\n",
       "      <td>Within past year (anytime less than 12 months ...</td>\n",
       "      <td>Yes</td>\n",
       "      <td>7.0</td>\n",
       "      <td>NaN</td>\n",
       "      <td>No</td>\n",
       "      <td>...</td>\n",
       "      <td>1.65</td>\n",
       "      <td>63.50</td>\n",
       "      <td>23.30</td>\n",
       "      <td>No</td>\n",
       "      <td>No</td>\n",
       "      <td>Yes</td>\n",
       "      <td>Yes</td>\n",
       "      <td>No, did not receive any tetanus shot in the pa...</td>\n",
       "      <td>No</td>\n",
       "      <td>No</td>\n",
       "    </tr>\n",
       "    <tr>\n",
       "      <th>4</th>\n",
       "      <td>Alabama</td>\n",
       "      <td>Female</td>\n",
       "      <td>Fair</td>\n",
       "      <td>2.0</td>\n",
       "      <td>0.0</td>\n",
       "      <td>Within past year (anytime less than 12 months ...</td>\n",
       "      <td>Yes</td>\n",
       "      <td>9.0</td>\n",
       "      <td>NaN</td>\n",
       "      <td>No</td>\n",
       "      <td>...</td>\n",
       "      <td>1.57</td>\n",
       "      <td>53.98</td>\n",
       "      <td>21.77</td>\n",
       "      <td>Yes</td>\n",
       "      <td>No</td>\n",
       "      <td>No</td>\n",
       "      <td>Yes</td>\n",
       "      <td>No, did not receive any tetanus shot in the pa...</td>\n",
       "      <td>No</td>\n",
       "      <td>No</td>\n",
       "    </tr>\n",
       "  </tbody>\n",
       "</table>\n",
       "<p>5 rows × 40 columns</p>\n",
       "</div>"
      ],
      "text/plain": [
       "     State     Sex GeneralHealth  PhysicalHealthDays  MentalHealthDays  \\\n",
       "0  Alabama  Female     Very good                 0.0               0.0   \n",
       "1  Alabama  Female     Excellent                 0.0               0.0   \n",
       "2  Alabama  Female     Very good                 2.0               3.0   \n",
       "3  Alabama  Female     Excellent                 0.0               0.0   \n",
       "4  Alabama  Female          Fair                 2.0               0.0   \n",
       "\n",
       "                                     LastCheckupTime PhysicalActivities  \\\n",
       "0  Within past year (anytime less than 12 months ...                 No   \n",
       "1                                                NaN                 No   \n",
       "2  Within past year (anytime less than 12 months ...                Yes   \n",
       "3  Within past year (anytime less than 12 months ...                Yes   \n",
       "4  Within past year (anytime less than 12 months ...                Yes   \n",
       "\n",
       "   SleepHours RemovedTeeth HadHeartAttack  ... HeightInMeters  \\\n",
       "0         8.0          NaN             No  ...            NaN   \n",
       "1         6.0          NaN             No  ...           1.60   \n",
       "2         5.0          NaN             No  ...           1.57   \n",
       "3         7.0          NaN             No  ...           1.65   \n",
       "4         9.0          NaN             No  ...           1.57   \n",
       "\n",
       "  WeightInKilograms    BMI AlcoholDrinkers HIVTesting FluVaxLast12  \\\n",
       "0               NaN    NaN              No         No          Yes   \n",
       "1             68.04  26.57              No         No           No   \n",
       "2             63.50  25.61              No         No           No   \n",
       "3             63.50  23.30              No         No          Yes   \n",
       "4             53.98  21.77             Yes         No           No   \n",
       "\n",
       "  PneumoVaxEver                                  TetanusLast10Tdap  \\\n",
       "0            No  Yes, received tetanus shot but not sure what type   \n",
       "1            No  No, did not receive any tetanus shot in the pa...   \n",
       "2            No                                                NaN   \n",
       "3           Yes  No, did not receive any tetanus shot in the pa...   \n",
       "4           Yes  No, did not receive any tetanus shot in the pa...   \n",
       "\n",
       "  HighRiskLastYear CovidPos  \n",
       "0               No       No  \n",
       "1               No       No  \n",
       "2               No      Yes  \n",
       "3               No       No  \n",
       "4               No       No  \n",
       "\n",
       "[5 rows x 40 columns]"
      ]
     },
     "execution_count": 4,
     "metadata": {},
     "output_type": "execute_result"
    }
   ],
   "source": [
    "data=pd.read_csv(r'C:\\Users\\Admin\\Desktop\\AI\\Data Analysis\\heart disease project\\2022\\heart_2022_with_nans.csv')\n",
    "data.head()"
   ]
  },
  {
   "cell_type": "code",
   "execution_count": 5,
   "metadata": {},
   "outputs": [
    {
     "data": {
      "text/plain": [
       "Index(['State', 'Sex', 'GeneralHealth', 'PhysicalHealthDays',\n",
       "       'MentalHealthDays', 'LastCheckupTime', 'PhysicalActivities',\n",
       "       'SleepHours', 'RemovedTeeth', 'HadHeartAttack', 'HadAngina',\n",
       "       'HadStroke', 'HadAsthma', 'HadSkinCancer', 'HadCOPD',\n",
       "       'HadDepressiveDisorder', 'HadKidneyDisease', 'HadArthritis',\n",
       "       'HadDiabetes', 'DeafOrHardOfHearing', 'BlindOrVisionDifficulty',\n",
       "       'DifficultyConcentrating', 'DifficultyWalking',\n",
       "       'DifficultyDressingBathing', 'DifficultyErrands', 'SmokerStatus',\n",
       "       'ECigaretteUsage', 'ChestScan', 'RaceEthnicityCategory', 'AgeCategory',\n",
       "       'HeightInMeters', 'WeightInKilograms', 'BMI', 'AlcoholDrinkers',\n",
       "       'HIVTesting', 'FluVaxLast12', 'PneumoVaxEver', 'TetanusLast10Tdap',\n",
       "       'HighRiskLastYear', 'CovidPos'],\n",
       "      dtype='object')"
      ]
     },
     "execution_count": 5,
     "metadata": {},
     "output_type": "execute_result"
    }
   ],
   "source": [
    "data.columns"
   ]
  },
  {
   "cell_type": "code",
   "execution_count": 6,
   "metadata": {},
   "outputs": [
    {
     "name": "stdout",
     "output_type": "stream",
     "text": [
      "<class 'pandas.core.frame.DataFrame'>\n",
      "RangeIndex: 445132 entries, 0 to 445131\n",
      "Data columns (total 40 columns):\n",
      " #   Column                     Non-Null Count   Dtype  \n",
      "---  ------                     --------------   -----  \n",
      " 0   State                      445132 non-null  object \n",
      " 1   Sex                        445132 non-null  object \n",
      " 2   GeneralHealth              443934 non-null  object \n",
      " 3   PhysicalHealthDays         434205 non-null  float64\n",
      " 4   MentalHealthDays           436065 non-null  float64\n",
      " 5   LastCheckupTime            436824 non-null  object \n",
      " 6   PhysicalActivities         444039 non-null  object \n",
      " 7   SleepHours                 439679 non-null  float64\n",
      " 8   RemovedTeeth               433772 non-null  object \n",
      " 9   HadHeartAttack             442067 non-null  object \n",
      " 10  HadAngina                  440727 non-null  object \n",
      " 11  HadStroke                  443575 non-null  object \n",
      " 12  HadAsthma                  443359 non-null  object \n",
      " 13  HadSkinCancer              441989 non-null  object \n",
      " 14  HadCOPD                    442913 non-null  object \n",
      " 15  HadDepressiveDisorder      442320 non-null  object \n",
      " 16  HadKidneyDisease           443206 non-null  object \n",
      " 17  HadArthritis               442499 non-null  object \n",
      " 18  HadDiabetes                444045 non-null  object \n",
      " 19  DeafOrHardOfHearing        424485 non-null  object \n",
      " 20  BlindOrVisionDifficulty    423568 non-null  object \n",
      " 21  DifficultyConcentrating    420892 non-null  object \n",
      " 22  DifficultyWalking          421120 non-null  object \n",
      " 23  DifficultyDressingBathing  421217 non-null  object \n",
      " 24  DifficultyErrands          419476 non-null  object \n",
      " 25  SmokerStatus               409670 non-null  object \n",
      " 26  ECigaretteUsage            409472 non-null  object \n",
      " 27  ChestScan                  389086 non-null  object \n",
      " 28  RaceEthnicityCategory      431075 non-null  object \n",
      " 29  AgeCategory                436053 non-null  object \n",
      " 30  HeightInMeters             416480 non-null  float64\n",
      " 31  WeightInKilograms          403054 non-null  float64\n",
      " 32  BMI                        396326 non-null  float64\n",
      " 33  AlcoholDrinkers            398558 non-null  object \n",
      " 34  HIVTesting                 379005 non-null  object \n",
      " 35  FluVaxLast12               398011 non-null  object \n",
      " 36  PneumoVaxEver              368092 non-null  object \n",
      " 37  TetanusLast10Tdap          362616 non-null  object \n",
      " 38  HighRiskLastYear           394509 non-null  object \n",
      " 39  CovidPos                   394368 non-null  object \n",
      "dtypes: float64(6), object(34)\n",
      "memory usage: 135.8+ MB\n"
     ]
    }
   ],
   "source": [
    "data.info()"
   ]
  },
  {
   "cell_type": "code",
   "execution_count": 7,
   "metadata": {},
   "outputs": [
    {
     "data": {
      "text/plain": [
       "157"
      ]
     },
     "execution_count": 7,
     "metadata": {},
     "output_type": "execute_result"
    }
   ],
   "source": [
    "data.duplicated().sum()"
   ]
  },
  {
   "cell_type": "code",
   "execution_count": 8,
   "metadata": {},
   "outputs": [
    {
     "data": {
      "text/plain": [
       "State                            0\n",
       "Sex                              0\n",
       "GeneralHealth                 1198\n",
       "PhysicalHealthDays           10927\n",
       "MentalHealthDays              9067\n",
       "LastCheckupTime               8308\n",
       "PhysicalActivities            1093\n",
       "SleepHours                    5453\n",
       "RemovedTeeth                 11360\n",
       "HadHeartAttack                3065\n",
       "HadAngina                     4405\n",
       "HadStroke                     1557\n",
       "HadAsthma                     1773\n",
       "HadSkinCancer                 3143\n",
       "HadCOPD                       2219\n",
       "HadDepressiveDisorder         2812\n",
       "HadKidneyDisease              1926\n",
       "HadArthritis                  2633\n",
       "HadDiabetes                   1087\n",
       "DeafOrHardOfHearing          20647\n",
       "BlindOrVisionDifficulty      21564\n",
       "DifficultyConcentrating      24240\n",
       "DifficultyWalking            24012\n",
       "DifficultyDressingBathing    23915\n",
       "DifficultyErrands            25656\n",
       "SmokerStatus                 35462\n",
       "ECigaretteUsage              35660\n",
       "ChestScan                    56046\n",
       "RaceEthnicityCategory        14057\n",
       "AgeCategory                   9079\n",
       "HeightInMeters               28652\n",
       "WeightInKilograms            42078\n",
       "BMI                          48806\n",
       "AlcoholDrinkers              46574\n",
       "HIVTesting                   66127\n",
       "FluVaxLast12                 47121\n",
       "PneumoVaxEver                77040\n",
       "TetanusLast10Tdap            82516\n",
       "HighRiskLastYear             50623\n",
       "CovidPos                     50764\n",
       "dtype: int64"
      ]
     },
     "execution_count": 8,
     "metadata": {},
     "output_type": "execute_result"
    }
   ],
   "source": [
    "missing_values=data.isnull().sum() #checking for missing values\n",
    "missing_values"
   ]
  },
  {
   "cell_type": "code",
   "execution_count": 9,
   "metadata": {},
   "outputs": [
    {
     "data": {
      "text/html": [
       "<div>\n",
       "<style scoped>\n",
       "    .dataframe tbody tr th:only-of-type {\n",
       "        vertical-align: middle;\n",
       "    }\n",
       "\n",
       "    .dataframe tbody tr th {\n",
       "        vertical-align: top;\n",
       "    }\n",
       "\n",
       "    .dataframe thead th {\n",
       "        text-align: right;\n",
       "    }\n",
       "</style>\n",
       "<table border=\"1\" class=\"dataframe\">\n",
       "  <thead>\n",
       "    <tr style=\"text-align: right;\">\n",
       "      <th></th>\n",
       "      <th>missing_values</th>\n",
       "      <th>missing_precentage</th>\n",
       "    </tr>\n",
       "  </thead>\n",
       "  <tbody>\n",
       "    <tr>\n",
       "      <th>State</th>\n",
       "      <td>0</td>\n",
       "      <td>0.000000</td>\n",
       "    </tr>\n",
       "    <tr>\n",
       "      <th>Sex</th>\n",
       "      <td>0</td>\n",
       "      <td>0.000000</td>\n",
       "    </tr>\n",
       "    <tr>\n",
       "      <th>GeneralHealth</th>\n",
       "      <td>1198</td>\n",
       "      <td>0.269134</td>\n",
       "    </tr>\n",
       "    <tr>\n",
       "      <th>PhysicalHealthDays</th>\n",
       "      <td>10927</td>\n",
       "      <td>2.454777</td>\n",
       "    </tr>\n",
       "    <tr>\n",
       "      <th>MentalHealthDays</th>\n",
       "      <td>9067</td>\n",
       "      <td>2.036924</td>\n",
       "    </tr>\n",
       "    <tr>\n",
       "      <th>LastCheckupTime</th>\n",
       "      <td>8308</td>\n",
       "      <td>1.866413</td>\n",
       "    </tr>\n",
       "    <tr>\n",
       "      <th>PhysicalActivities</th>\n",
       "      <td>1093</td>\n",
       "      <td>0.245545</td>\n",
       "    </tr>\n",
       "    <tr>\n",
       "      <th>SleepHours</th>\n",
       "      <td>5453</td>\n",
       "      <td>1.225030</td>\n",
       "    </tr>\n",
       "    <tr>\n",
       "      <th>RemovedTeeth</th>\n",
       "      <td>11360</td>\n",
       "      <td>2.552052</td>\n",
       "    </tr>\n",
       "    <tr>\n",
       "      <th>HadHeartAttack</th>\n",
       "      <td>3065</td>\n",
       "      <td>0.688560</td>\n",
       "    </tr>\n",
       "    <tr>\n",
       "      <th>HadAngina</th>\n",
       "      <td>4405</td>\n",
       "      <td>0.989594</td>\n",
       "    </tr>\n",
       "    <tr>\n",
       "      <th>HadStroke</th>\n",
       "      <td>1557</td>\n",
       "      <td>0.349784</td>\n",
       "    </tr>\n",
       "    <tr>\n",
       "      <th>HadAsthma</th>\n",
       "      <td>1773</td>\n",
       "      <td>0.398309</td>\n",
       "    </tr>\n",
       "    <tr>\n",
       "      <th>HadSkinCancer</th>\n",
       "      <td>3143</td>\n",
       "      <td>0.706083</td>\n",
       "    </tr>\n",
       "    <tr>\n",
       "      <th>HadCOPD</th>\n",
       "      <td>2219</td>\n",
       "      <td>0.498504</td>\n",
       "    </tr>\n",
       "    <tr>\n",
       "      <th>HadDepressiveDisorder</th>\n",
       "      <td>2812</td>\n",
       "      <td>0.631723</td>\n",
       "    </tr>\n",
       "    <tr>\n",
       "      <th>HadKidneyDisease</th>\n",
       "      <td>1926</td>\n",
       "      <td>0.432681</td>\n",
       "    </tr>\n",
       "    <tr>\n",
       "      <th>HadArthritis</th>\n",
       "      <td>2633</td>\n",
       "      <td>0.591510</td>\n",
       "    </tr>\n",
       "    <tr>\n",
       "      <th>HadDiabetes</th>\n",
       "      <td>1087</td>\n",
       "      <td>0.244197</td>\n",
       "    </tr>\n",
       "    <tr>\n",
       "      <th>DeafOrHardOfHearing</th>\n",
       "      <td>20647</td>\n",
       "      <td>4.638399</td>\n",
       "    </tr>\n",
       "    <tr>\n",
       "      <th>BlindOrVisionDifficulty</th>\n",
       "      <td>21564</td>\n",
       "      <td>4.844406</td>\n",
       "    </tr>\n",
       "    <tr>\n",
       "      <th>DifficultyConcentrating</th>\n",
       "      <td>24240</td>\n",
       "      <td>5.445576</td>\n",
       "    </tr>\n",
       "    <tr>\n",
       "      <th>DifficultyWalking</th>\n",
       "      <td>24012</td>\n",
       "      <td>5.394355</td>\n",
       "    </tr>\n",
       "    <tr>\n",
       "      <th>DifficultyDressingBathing</th>\n",
       "      <td>23915</td>\n",
       "      <td>5.372564</td>\n",
       "    </tr>\n",
       "    <tr>\n",
       "      <th>DifficultyErrands</th>\n",
       "      <td>25656</td>\n",
       "      <td>5.763684</td>\n",
       "    </tr>\n",
       "    <tr>\n",
       "      <th>SmokerStatus</th>\n",
       "      <td>35462</td>\n",
       "      <td>7.966626</td>\n",
       "    </tr>\n",
       "    <tr>\n",
       "      <th>ECigaretteUsage</th>\n",
       "      <td>35660</td>\n",
       "      <td>8.011107</td>\n",
       "    </tr>\n",
       "    <tr>\n",
       "      <th>ChestScan</th>\n",
       "      <td>56046</td>\n",
       "      <td>12.590872</td>\n",
       "    </tr>\n",
       "    <tr>\n",
       "      <th>RaceEthnicityCategory</th>\n",
       "      <td>14057</td>\n",
       "      <td>3.157940</td>\n",
       "    </tr>\n",
       "    <tr>\n",
       "      <th>AgeCategory</th>\n",
       "      <td>9079</td>\n",
       "      <td>2.039620</td>\n",
       "    </tr>\n",
       "    <tr>\n",
       "      <th>HeightInMeters</th>\n",
       "      <td>28652</td>\n",
       "      <td>6.436742</td>\n",
       "    </tr>\n",
       "    <tr>\n",
       "      <th>WeightInKilograms</th>\n",
       "      <td>42078</td>\n",
       "      <td>9.452926</td>\n",
       "    </tr>\n",
       "    <tr>\n",
       "      <th>BMI</th>\n",
       "      <td>48806</td>\n",
       "      <td>10.964388</td>\n",
       "    </tr>\n",
       "    <tr>\n",
       "      <th>AlcoholDrinkers</th>\n",
       "      <td>46574</td>\n",
       "      <td>10.462964</td>\n",
       "    </tr>\n",
       "    <tr>\n",
       "      <th>HIVTesting</th>\n",
       "      <td>66127</td>\n",
       "      <td>14.855593</td>\n",
       "    </tr>\n",
       "    <tr>\n",
       "      <th>FluVaxLast12</th>\n",
       "      <td>47121</td>\n",
       "      <td>10.585849</td>\n",
       "    </tr>\n",
       "    <tr>\n",
       "      <th>PneumoVaxEver</th>\n",
       "      <td>77040</td>\n",
       "      <td>17.307226</td>\n",
       "    </tr>\n",
       "    <tr>\n",
       "      <th>TetanusLast10Tdap</th>\n",
       "      <td>82516</td>\n",
       "      <td>18.537423</td>\n",
       "    </tr>\n",
       "    <tr>\n",
       "      <th>HighRiskLastYear</th>\n",
       "      <td>50623</td>\n",
       "      <td>11.372582</td>\n",
       "    </tr>\n",
       "    <tr>\n",
       "      <th>CovidPos</th>\n",
       "      <td>50764</td>\n",
       "      <td>11.404258</td>\n",
       "    </tr>\n",
       "  </tbody>\n",
       "</table>\n",
       "</div>"
      ],
      "text/plain": [
       "                           missing_values  missing_precentage\n",
       "State                                   0            0.000000\n",
       "Sex                                     0            0.000000\n",
       "GeneralHealth                        1198            0.269134\n",
       "PhysicalHealthDays                  10927            2.454777\n",
       "MentalHealthDays                     9067            2.036924\n",
       "LastCheckupTime                      8308            1.866413\n",
       "PhysicalActivities                   1093            0.245545\n",
       "SleepHours                           5453            1.225030\n",
       "RemovedTeeth                        11360            2.552052\n",
       "HadHeartAttack                       3065            0.688560\n",
       "HadAngina                            4405            0.989594\n",
       "HadStroke                            1557            0.349784\n",
       "HadAsthma                            1773            0.398309\n",
       "HadSkinCancer                        3143            0.706083\n",
       "HadCOPD                              2219            0.498504\n",
       "HadDepressiveDisorder                2812            0.631723\n",
       "HadKidneyDisease                     1926            0.432681\n",
       "HadArthritis                         2633            0.591510\n",
       "HadDiabetes                          1087            0.244197\n",
       "DeafOrHardOfHearing                 20647            4.638399\n",
       "BlindOrVisionDifficulty             21564            4.844406\n",
       "DifficultyConcentrating             24240            5.445576\n",
       "DifficultyWalking                   24012            5.394355\n",
       "DifficultyDressingBathing           23915            5.372564\n",
       "DifficultyErrands                   25656            5.763684\n",
       "SmokerStatus                        35462            7.966626\n",
       "ECigaretteUsage                     35660            8.011107\n",
       "ChestScan                           56046           12.590872\n",
       "RaceEthnicityCategory               14057            3.157940\n",
       "AgeCategory                          9079            2.039620\n",
       "HeightInMeters                      28652            6.436742\n",
       "WeightInKilograms                   42078            9.452926\n",
       "BMI                                 48806           10.964388\n",
       "AlcoholDrinkers                     46574           10.462964\n",
       "HIVTesting                          66127           14.855593\n",
       "FluVaxLast12                        47121           10.585849\n",
       "PneumoVaxEver                       77040           17.307226\n",
       "TetanusLast10Tdap                   82516           18.537423\n",
       "HighRiskLastYear                    50623           11.372582\n",
       "CovidPos                            50764           11.404258"
      ]
     },
     "execution_count": 9,
     "metadata": {},
     "output_type": "execute_result"
    }
   ],
   "source": [
    "missing_precentage=missing_values/len(data)*100\n",
    "missing_df=pd.DataFrame({'missing_values':missing_values,'missing_precentage':missing_precentage})\n",
    "missing_df"
   ]
  },
  {
   "cell_type": "code",
   "execution_count": 10,
   "metadata": {},
   "outputs": [
    {
     "data": {
      "image/png": "[encoded data removed]",
      "text/plain": [
       "<Figure size 1000x500 with 1 Axes>"
      ]
     },
     "metadata": {},
     "output_type": "display_data"
    }
   ],
   "source": [
    "plt.figure(figsize=(10,5))\n",
    "missing_precentage.plot(kind='bar',color='blue')\n",
    "plt.xlabel('Columns')\n",
    "plt.title('Percentage of missing values')\n",
    "plt.show()"
   ]
  },
  {
   "cell_type": "code",
   "execution_count": 11,
   "metadata": {},
   "outputs": [
    {
     "data": {
      "text/plain": [
       "GeneralHealth\n",
       "Very good    33.438304\n",
       "Good         32.346700\n",
       "Excellent    16.191146\n",
       "Fair         13.577018\n",
       "Poor          4.446832\n",
       "Name: proportion, dtype: float64"
      ]
     },
     "execution_count": 11,
     "metadata": {},
     "output_type": "execute_result"
    }
   ],
   "source": [
    "data.GeneralHealth.value_counts(normalize=True)*100"
   ]
  },
  {
   "cell_type": "code",
   "execution_count": 12,
   "metadata": {},
   "outputs": [],
   "source": [
    "data.GeneralHealth.fillna(data.GeneralHealth.mode()[0],inplace=True)"
   ]
  },
  {
   "cell_type": "code",
   "execution_count": 13,
   "metadata": {},
   "outputs": [
    {
     "data": {
      "text/plain": [
       "PhysicalHealthDays\n",
       "0.0     61.680312\n",
       "30.0     7.618982\n",
       "2.0      5.816607\n",
       "1.0      3.972778\n",
       "3.0      3.672919\n",
       "5.0      3.527136\n",
       "10.0     2.438710\n",
       "7.0      2.152900\n",
       "15.0     2.023698\n",
       "4.0      1.948849\n",
       "20.0     1.248489\n",
       "14.0     1.158209\n",
       "6.0      0.584517\n",
       "25.0     0.502297\n",
       "8.0      0.405569\n",
       "12.0     0.255870\n",
       "21.0     0.239058\n",
       "28.0     0.172960\n",
       "9.0      0.094656\n",
       "29.0     0.084062\n",
       "18.0     0.062413\n",
       "16.0     0.058728\n",
       "27.0     0.043298\n",
       "17.0     0.042607\n",
       "13.0     0.037310\n",
       "11.0     0.037079\n",
       "22.0     0.032243\n",
       "24.0     0.028788\n",
       "26.0     0.025103\n",
       "23.0     0.022800\n",
       "19.0     0.011055\n",
       "Name: proportion, dtype: float64"
      ]
     },
     "execution_count": 13,
     "metadata": {},
     "output_type": "execute_result"
    }
   ],
   "source": [
    "data.PhysicalHealthDays.value_counts(normalize=True)*100"
   ]
  },
  {
   "cell_type": "code",
   "execution_count": 14,
   "metadata": {},
   "outputs": [
    {
     "data": {
      "text/plain": [
       "-21.71881738517407"
      ]
     },
     "execution_count": 14,
     "metadata": {},
     "output_type": "execute_result"
    }
   ],
   "source": [
    "data.PhysicalHealthDays.mean() - data.PhysicalHealthDays.std() * 3    #outliers"
   ]
  },
  {
   "cell_type": "code",
   "execution_count": 15,
   "metadata": {},
   "outputs": [
    {
     "data": {
      "text/plain": [
       "30.4146546049205"
      ]
     },
     "execution_count": 15,
     "metadata": {},
     "output_type": "execute_result"
    }
   ],
   "source": [
    "data.PhysicalHealthDays.mean() + data.PhysicalHealthDays.std() * 3   #outliers"
   ]
  },
  {
   "cell_type": "code",
   "execution_count": 16,
   "metadata": {},
   "outputs": [
    {
     "data": {
      "text/plain": [
       "<Axes: ylabel='PhysicalHealthDays'>"
      ]
     },
     "execution_count": 16,
     "metadata": {},
     "output_type": "execute_result"
    },
    {
     "data": {
      "image/png": "[encoded data removed]",
      "text/plain": [
       "<Figure size 640x480 with 1 Axes>"
      ]
     },
     "metadata": {},
     "output_type": "display_data"
    }
   ],
   "source": [
    "sns.boxplot(data.PhysicalHealthDays)"
   ]
  },
  {
   "cell_type": "code",
   "execution_count": 17,
   "metadata": {},
   "outputs": [],
   "source": [
    "data.PhysicalHealthDays.fillna(data.PhysicalHealthDays.median(),inplace=True)"
   ]
  },
  {
   "cell_type": "code",
   "execution_count": 18,
   "metadata": {},
   "outputs": [
    {
     "data": {
      "text/plain": [
       "MentalHealthDays\n",
       "0.0     60.823272\n",
       "30.0     6.189444\n",
       "2.0      5.454462\n",
       "5.0      4.575235\n",
       "10.0     3.534794\n",
       "3.0      3.518971\n",
       "15.0     3.329549\n",
       "1.0      3.304324\n",
       "20.0     2.098311\n",
       "4.0      1.821517\n",
       "7.0      1.798814\n",
       "25.0     0.705858\n",
       "14.0     0.658388\n",
       "6.0      0.528591\n",
       "8.0      0.401087\n",
       "12.0     0.288718\n",
       "28.0     0.208684\n",
       "21.0     0.125899\n",
       "29.0     0.115120\n",
       "9.0      0.073842\n",
       "18.0     0.073154\n",
       "16.0     0.064211\n",
       "17.0     0.055955\n",
       "27.0     0.055267\n",
       "22.0     0.044259\n",
       "13.0     0.038756\n",
       "24.0     0.028436\n",
       "11.0     0.027748\n",
       "26.0     0.024308\n",
       "23.0     0.022244\n",
       "19.0     0.010778\n",
       "Name: proportion, dtype: float64"
      ]
     },
     "execution_count": 18,
     "metadata": {},
     "output_type": "execute_result"
    }
   ],
   "source": [
    "data.MentalHealthDays.value_counts(normalize=True)*100"
   ]
  },
  {
   "cell_type": "code",
   "execution_count": 19,
   "metadata": {},
   "outputs": [
    {
     "data": {
      "text/plain": [
       "-20.77977458437194"
      ]
     },
     "execution_count": 19,
     "metadata": {},
     "output_type": "execute_result"
    }
   ],
   "source": [
    "data.MentalHealthDays.mean() - data.MentalHealthDays.std() * 3    #outliers"
   ]
  },
  {
   "cell_type": "code",
   "execution_count": 20,
   "metadata": {},
   "outputs": [
    {
     "data": {
      "text/plain": [
       "29.54507333570488"
      ]
     },
     "execution_count": 20,
     "metadata": {},
     "output_type": "execute_result"
    }
   ],
   "source": [
    "data.MentalHealthDays.mean() + data.MentalHealthDays.std() * 3    #outliers"
   ]
  },
  {
   "cell_type": "code",
   "execution_count": 21,
   "metadata": {},
   "outputs": [
    {
     "data": {
      "text/plain": [
       "<Axes: ylabel='MentalHealthDays'>"
      ]
     },
     "execution_count": 21,
     "metadata": {},
     "output_type": "execute_result"
    },
    {
     "data": {
      "image/png": "[encoded data removed]",
      "text/plain": [
       "<Figure size 640x480 with 1 Axes>"
      ]
     },
     "metadata": {},
     "output_type": "display_data"
    }
   ],
   "source": [
    "sns.boxplot(data.MentalHealthDays)"
   ]
  },
  {
   "cell_type": "code",
   "execution_count": 22,
   "metadata": {},
   "outputs": [],
   "source": [
    "data.MentalHealthDays.fillna(data.MentalHealthDays.median(),inplace=True)"
   ]
  },
  {
   "cell_type": "code",
   "execution_count": 23,
   "metadata": {},
   "outputs": [
    {
     "data": {
      "text/plain": [
       "LastCheckupTime\n",
       "Within past year (anytime less than 12 months ago)         80.339908\n",
       "Within past 2 years (1 year but less than 2 years ago)      9.596313\n",
       "Within past 5 years (2 years but less than 5 years ago)     5.696116\n",
       "5 or more years ago                                         4.367663\n",
       "Name: proportion, dtype: float64"
      ]
     },
     "execution_count": 23,
     "metadata": {},
     "output_type": "execute_result"
    }
   ],
   "source": [
    "data.LastCheckupTime.value_counts(normalize=True)*100"
   ]
  },
  {
   "cell_type": "code",
   "execution_count": 24,
   "metadata": {},
   "outputs": [],
   "source": [
    "data.LastCheckupTime.fillna(data.LastCheckupTime.mode()[0],inplace=True)"
   ]
  },
  {
   "cell_type": "code",
   "execution_count": 25,
   "metadata": {},
   "outputs": [
    {
     "data": {
      "text/plain": [
       "PhysicalActivities\n",
       "Yes    76.020124\n",
       "No     23.979876\n",
       "Name: proportion, dtype: float64"
      ]
     },
     "execution_count": 25,
     "metadata": {},
     "output_type": "execute_result"
    }
   ],
   "source": [
    "data.PhysicalActivities.value_counts(normalize=True)*100"
   ]
  },
  {
   "cell_type": "code",
   "execution_count": 26,
   "metadata": {},
   "outputs": [
    {
     "data": {
      "text/plain": [
       "AgeCategory      PhysicalActivities\n",
       "Age 18 to 24     Yes                   0.837555\n",
       "                 No                    0.162445\n",
       "Age 25 to 29     Yes                   0.830525\n",
       "                 No                    0.169475\n",
       "Age 30 to 34     Yes                   0.819579\n",
       "                 No                    0.180421\n",
       "Age 35 to 39     Yes                   0.820081\n",
       "                 No                    0.179919\n",
       "Age 40 to 44     Yes                   0.802803\n",
       "                 No                    0.197197\n",
       "Age 45 to 49     Yes                   0.784997\n",
       "                 No                    0.215003\n",
       "Age 50 to 54     Yes                   0.760853\n",
       "                 No                    0.239147\n",
       "Age 55 to 59     Yes                   0.746373\n",
       "                 No                    0.253627\n",
       "Age 60 to 64     Yes                   0.743685\n",
       "                 No                    0.256315\n",
       "Age 65 to 69     Yes                   0.752527\n",
       "                 No                    0.247473\n",
       "Age 70 to 74     Yes                   0.735607\n",
       "                 No                    0.264393\n",
       "Age 75 to 79     Yes                   0.704177\n",
       "                 No                    0.295823\n",
       "Age 80 or older  Yes                   0.633047\n",
       "                 No                    0.366953\n",
       "Name: proportion, dtype: float64"
      ]
     },
     "execution_count": 26,
     "metadata": {},
     "output_type": "execute_result"
    }
   ],
   "source": [
    "data.groupby('AgeCategory')['PhysicalActivities'].value_counts(normalize=True)\n"
   ]
  },
  {
   "cell_type": "code",
   "execution_count": 27,
   "metadata": {},
   "outputs": [],
   "source": [
    "data.PhysicalActivities.fillna(data.PhysicalActivities.mode()[0],inplace=True)"
   ]
  },
  {
   "cell_type": "code",
   "execution_count": 28,
   "metadata": {},
   "outputs": [
    {
     "data": {
      "text/plain": [
       "SleepHours\n",
       "7.0     30.232738\n",
       "8.0     28.530360\n",
       "6.0     21.806818\n",
       "5.0      6.850907\n",
       "9.0      4.823974\n",
       "4.0      2.827745\n",
       "10.0     2.378781\n",
       "3.0      0.741450\n",
       "12.0     0.683226\n",
       "2.0      0.352302\n",
       "1.0      0.262464\n",
       "11.0     0.156023\n",
       "16.0     0.074827\n",
       "15.0     0.072098\n",
       "14.0     0.067094\n",
       "18.0     0.038210\n",
       "13.0     0.037527\n",
       "20.0     0.032524\n",
       "24.0     0.011827\n",
       "17.0     0.006141\n",
       "22.0     0.004321\n",
       "23.0     0.004094\n",
       "19.0     0.003639\n",
       "21.0     0.000910\n",
       "Name: proportion, dtype: float64"
      ]
     },
     "execution_count": 28,
     "metadata": {},
     "output_type": "execute_result"
    }
   ],
   "source": [
    "data.SleepHours.value_counts(normalize=True)*100"
   ]
  },
  {
   "cell_type": "code",
   "execution_count": 29,
   "metadata": {},
   "outputs": [
    {
     "data": {
      "text/plain": [
       "<Axes: ylabel='SleepHours'>"
      ]
     },
     "execution_count": 29,
     "metadata": {},
     "output_type": "execute_result"
    },
    {
     "data": {
      "image/png": "[encoded data removed]",
      "text/plain": [
       "<Figure size 640x480 with 1 Axes>"
      ]
     },
     "metadata": {},
     "output_type": "display_data"
    }
   ],
   "source": [
    "sns.boxplot(data.SleepHours)"
   ]
  },
  {
   "cell_type": "code",
   "execution_count": 30,
   "metadata": {},
   "outputs": [],
   "source": [
    "data.SleepHours.fillna(data.SleepHours.median(), inplace=True)"
   ]
  },
  {
   "cell_type": "code",
   "execution_count": 31,
   "metadata": {},
   "outputs": [
    {
     "data": {
      "text/plain": [
       "RemovedTeeth\n",
       "None of them              53.819749\n",
       "1 to 5                    29.806903\n",
       "6 or more, but not all    10.505519\n",
       "All                        5.867829\n",
       "Name: proportion, dtype: float64"
      ]
     },
     "execution_count": 31,
     "metadata": {},
     "output_type": "execute_result"
    }
   ],
   "source": [
    "data.RemovedTeeth.value_counts(normalize=True)*100"
   ]
  },
  {
   "cell_type": "code",
   "execution_count": 32,
   "metadata": {},
   "outputs": [],
   "source": [
    "data.RemovedTeeth.fillna(data.RemovedTeeth.mode()[0],inplace=True)  "
   ]
  },
  {
   "cell_type": "code",
   "execution_count": 33,
   "metadata": {},
   "outputs": [],
   "source": [
    "columns_to_fill=['HadHeartAttack','HadAngina','HadStroke', 'HadAsthma',\n",
    "    'HadSkinCancer', 'HadCOPD', 'HadDepressiveDisorder',\n",
    "    'HadKidneyDisease', 'HadArthritis', 'HadDiabetes']\n",
    "for column in columns_to_fill:\n",
    "    data[column].fillna(data[column].mode()[0],inplace=True)"
   ]
  },
  {
   "cell_type": "code",
   "execution_count": 34,
   "metadata": {},
   "outputs": [],
   "source": [
    "disability_columns = [\n",
    "    'DeafOrHardOfHearing', 'BlindOrVisionDifficulty',\n",
    "    'DifficultyConcentrating', 'DifficultyWalking',\n",
    "    'DifficultyDressingBathing', 'DifficultyErrands'\n",
    "]\n",
    "\n",
    "for col in disability_columns:\n",
    "    data[col].fillna(data[col].mode()[0], inplace=True)\n"
   ]
  },
  {
   "cell_type": "code",
   "execution_count": 69,
   "metadata": {},
   "outputs": [
    {
     "data": {
      "text/plain": [
       "State                            0\n",
       "Sex                              0\n",
       "GeneralHealth                    0\n",
       "PhysicalHealthDays               0\n",
       "MentalHealthDays                 0\n",
       "LastCheckupTime                  0\n",
       "PhysicalActivities               0\n",
       "SleepHours                       0\n",
       "RemovedTeeth                     0\n",
       "HadHeartAttack                   0\n",
       "HadAngina                        0\n",
       "HadStroke                        0\n",
       "HadAsthma                        0\n",
       "HadSkinCancer                    0\n",
       "HadCOPD                          0\n",
       "HadDepressiveDisorder            0\n",
       "HadKidneyDisease                 0\n",
       "HadArthritis                     0\n",
       "HadDiabetes                      0\n",
       "DeafOrHardOfHearing              0\n",
       "BlindOrVisionDifficulty          0\n",
       "DifficultyConcentrating          0\n",
       "DifficultyWalking                0\n",
       "DifficultyDressingBathing        0\n",
       "DifficultyErrands                0\n",
       "SmokerStatus                     0\n",
       "ECigaretteUsage                  0\n",
       "ChestScan                    56046\n",
       "RaceEthnicityCategory        14057\n",
       "AgeCategory                   9079\n",
       "HeightInMeters               28652\n",
       "WeightInKilograms            42078\n",
       "BMI                          48806\n",
       "AlcoholDrinkers                  0\n",
       "HIVTesting                   66127\n",
       "FluVaxLast12                 47121\n",
       "PneumoVaxEver                77040\n",
       "TetanusLast10Tdap            82516\n",
       "HighRiskLastYear             50623\n",
       "CovidPos                     50764\n",
       "dtype: int64"
      ]
     },
     "execution_count": 69,
     "metadata": {},
     "output_type": "execute_result"
    }
   ],
   "source": [
    "data.isnull().sum()"
   ]
  },
  {
   "cell_type": "code",
   "execution_count": 36,
   "metadata": {},
   "outputs": [
    {
     "data": {
      "text/plain": [
       "SmokerStatus\n",
       "Never smoked                             60.037347\n",
       "Former smoker                            27.772109\n",
       "Current smoker - now smokes every day     8.788293\n",
       "Current smoker - now smokes some days     3.402251\n",
       "Name: proportion, dtype: float64"
      ]
     },
     "execution_count": 36,
     "metadata": {},
     "output_type": "execute_result"
    }
   ],
   "source": [
    "data.SmokerStatus.value_counts(normalize=True) * 100"
   ]
  },
  {
   "cell_type": "code",
   "execution_count": 37,
   "metadata": {},
   "outputs": [],
   "source": [
    "data.SmokerStatus.fillna(data.SmokerStatus.mode()[0], inplace=True)"
   ]
  },
  {
   "cell_type": "code",
   "execution_count": 38,
   "metadata": {},
   "outputs": [
    {
     "data": {
      "text/plain": [
       "ECigaretteUsage\n",
       "Never used e-cigarettes in my entire life    76.192756\n",
       "Not at all (right now)                       18.406143\n",
       "Use them some days                            2.865642\n",
       "Use them every day                            2.535460\n",
       "Name: proportion, dtype: float64"
      ]
     },
     "execution_count": 38,
     "metadata": {},
     "output_type": "execute_result"
    }
   ],
   "source": [
    "data.ECigaretteUsage.value_counts(normalize=True) * 100"
   ]
  },
  {
   "cell_type": "code",
   "execution_count": 39,
   "metadata": {},
   "outputs": [],
   "source": [
    "data.ECigaretteUsage.fillna(data.ECigaretteUsage.mode()[0], inplace=True)"
   ]
  },
  {
   "cell_type": "code",
   "execution_count": 66,
   "metadata": {},
   "outputs": [
    {
     "data": {
      "text/plain": [
       "AlcoholDrinkers\n",
       "Yes    52.913503\n",
       "No     47.086497\n",
       "Name: proportion, dtype: float64"
      ]
     },
     "execution_count": 66,
     "metadata": {},
     "output_type": "execute_result"
    }
   ],
   "source": [
    "data.AlcoholDrinkers.value_counts(normalize=True) * 100"
   ]
  },
  {
   "cell_type": "code",
   "execution_count": 68,
   "metadata": {},
   "outputs": [],
   "source": [
    "data.AlcoholDrinkers.fillna(data.AlcoholDrinkers.mode()[0], inplace=True)"
   ]
  },
  {
   "cell_type": "code",
   "execution_count": 70,
   "metadata": {},
   "outputs": [
    {
     "data": {
      "text/plain": [
       "HIVTesting\n",
       "No     65.940819\n",
       "Yes    34.059181\n",
       "Name: proportion, dtype: float64"
      ]
     },
     "execution_count": 70,
     "metadata": {},
     "output_type": "execute_result"
    }
   ],
   "source": [
    "data.HIVTesting.value_counts(normalize=True) * 100"
   ]
  },
  {
   "cell_type": "code",
   "execution_count": 71,
   "metadata": {},
   "outputs": [],
   "source": [
    "data.HIVTesting.fillna(data.HIVTesting.mode()[0], inplace=True)"
   ]
  },
  {
   "cell_type": "code",
   "execution_count": 73,
   "metadata": {},
   "outputs": [
    {
     "data": {
      "text/plain": [
       "<Axes: xlabel='HIVTesting'>"
      ]
     },
     "execution_count": 73,
     "metadata": {},
     "output_type": "execute_result"
    },
    {
     "data": {
      "image/png": "[encoded data removed]",
      "text/plain": [
       "<Figure size 640x480 with 1 Axes>"
      ]
     },
     "metadata": {},
     "output_type": "display_data"
    }
   ],
   "source": [
    "data.HIVTesting.value_counts().plot(kind='bar')"
   ]
  },
  {
   "cell_type": "code",
   "execution_count": 75,
   "metadata": {},
   "outputs": [
    {
     "data": {
      "text/plain": [
       "FluVaxLast12\n",
       "Yes    52.575431\n",
       "No     47.424569\n",
       "Name: proportion, dtype: float64"
      ]
     },
     "execution_count": 75,
     "metadata": {},
     "output_type": "execute_result"
    }
   ],
   "source": [
    "data.FluVaxLast12.value_counts(normalize=True) * 100"
   ]
  },
  {
   "cell_type": "code",
   "execution_count": 76,
   "metadata": {},
   "outputs": [
    {
     "data": {
      "text/plain": [
       "<Axes: xlabel='FluVaxLast12'>"
      ]
     },
     "execution_count": 76,
     "metadata": {},
     "output_type": "execute_result"
    },
    {
     "data": {
      "image/png": "[encoded data removed]",
      "text/plain": [
       "<Figure size 640x480 with 1 Axes>"
      ]
     },
     "metadata": {},
     "output_type": "display_data"
    }
   ],
   "source": [
    "data.FluVaxLast12.value_counts().plot(kind='bar')"
   ]
  }
 ],
 "metadata": {
  "kernelspec": {
   "display_name": "Python 3",
   "language": "python",
   "name": "python3"
  },
  "language_info": {
   "codemirror_mode": {
    "name": "ipython",
    "version": 3
   },
   "file_extension": ".py",
   "mimetype": "text/x-python",
   "name": "python",
   "nbconvert_exporter": "python",
   "pygments_lexer": "ipython3",
   "version": "3.11.6"
  }
 },
 "nbformat": 4,
 "nbformat_minor": 2
}
